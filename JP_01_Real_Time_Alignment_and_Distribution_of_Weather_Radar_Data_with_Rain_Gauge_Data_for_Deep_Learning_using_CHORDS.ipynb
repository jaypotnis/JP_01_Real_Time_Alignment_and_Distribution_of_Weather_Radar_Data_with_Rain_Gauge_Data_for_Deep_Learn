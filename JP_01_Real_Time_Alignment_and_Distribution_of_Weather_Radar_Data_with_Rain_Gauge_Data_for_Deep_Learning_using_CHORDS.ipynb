{
 "cells": [
  {
   "cell_type": "markdown",
   "id": "97fef170",
   "metadata": {},
   "source": [
    "# Real Time Alignment and Distribution of Weather Radar Data with Rain Gauge Data for Deep Learning using CHORDS"
   ]
  },
  {
   "cell_type": "markdown",
   "id": "34a8e7f7",
   "metadata": {},
   "source": [
    "## Authors\n",
    "\n",
    "- Author1 = {\"name\": \"Jay Potnis\", \"affiliation\": \"Colorado State University\", \"email\": \"jay.potnis@colostate.edu\"}\n",
    "- Author2 = {\"name\": \"V.Chandrasekar\", \"affiliation\": \"Colorado State University\", \"email\": \"chandrasekaran.venkatachalam@colostate.edu\"}\n",
    "- Author3 = {\"name\": \"Ryan Gooch\", \"affiliation\": \"Colorado State University\", \"email\": \"s.ryan.gooch@gmail.com\"}\n",
    "\n",
    "1373, Campus Delivery Colorado State University, Fort Collins CO 80523"
   ]
  },
  {
   "cell_type": "markdown",
   "id": "bbd81d32",
   "metadata": {},
   "source": [
    "## Purpose\n",
    "\n",
    "- Quantitative Precipitation Estimation (QPE) based on weather radar observations plays a significant role in the understanding of weather events, especially in real-time, where fast evolving phenomena like convective storm cells can be dangerous. We wish to demonstrate QPE using deep learning as an alternative approach to empirical relationship equations between rainfall rate and reflectivity which were developed in the past. QPE using radar reflectivity is one of the possible applications of deep learning in the weather radar field. Preprocessing this data and saving it in real-time on cloud would let the users skip the time consuming preprocessing step and assist them to directly get to the deep learning phase. This notebook is a step towards using Deep Learning for making QPE work on-the-fly along with real time Radar measurements.\n",
    "\n",
    "- To train and test deep learning models with radar data, we must align rain gauge data in space and time. This data preprocessing requires time and resource consuming processes that involve downloading, extracting, gridding, aligning the radar data with respect to every gauge in the region. If this preprocessed dataset was readily available in real-time, deep learning can be easily performed on it by anyone without going through the heavy computations required in the process. EarthCube’s CHORDS tool is a real-time data service that can be used to store preprocessed data on cloud so that it can be accessed whenever and wherever required.\n",
    "\n",
    "- In this work, we demonstrate the steps involved in preprocessing such as accessing WSR-88D radar and NASA-TRMM rain gauge data, Cartesian gridding of radar data, aligning the radar data with gauge data in real-time. This aligned data is stored on cloud using CHORDS, so that it can be readily available to users who wish to use it for deep learning. The notebook will also demonstrate the procedure for storing and retrieving the dataset from CHORDS server and an example of the deep learning process on the downloaded dataset.\n"
   ]
  },
  {
   "cell_type": "markdown",
   "id": "63d05886",
   "metadata": {},
   "source": [
    "## Technical Contributions\n",
    "\n",
    "- Implementation of data preprocessing involves downloading, gridding and aligning WSR-88D and NASA-TRMM rain gauge data required for Quantatitive Precipitation Estimation (QPE) using Deep Learning.\n",
    "- Demonstration of a mechanism to store as well as retrive the processed data onto a CHORDS Portal based server. This mechanism can be used to process and store data in real time on the fly.\n",
    "- Practical example of downloading data from the CHORDS Portal and training a Deep Learning model for QPE using Deep Learning."
   ]
  },
  {
   "cell_type": "markdown",
   "id": "90f7b7aa",
   "metadata": {},
   "source": [
    "## Methodology\n",
    "\n",
    "1. To train and test deep learning models with radar data, we must first align rain gauge data in space and time. This data preprocessing requires time and resource consuming processes that involve downloading, extracting, gridding, aligning the radar data with respect to every gauge in the region. It is beneficial and easier to perform this step in real time as soon as data is obtained from radars.\n",
    "\n",
    "2. After the data is constructed in the required format, EarthCube’s CHORDS tool can be used to store the data on the cloud so that it can be accessesed whenever and wherever required. CHORDS is a real-time data service for storing data on cloud.\n",
    "\n",
    "3. After sufficient data is stored, we will use some historical data already stored on our cloud to train and test our Deep Learning model for QPE."
   ]
  },
  {
   "cell_type": "markdown",
   "id": "5fb132cd",
   "metadata": {},
   "source": [
    "### Importing required libraries\n",
    "\n",
    "- requests: The requests library is used to save data on the CHORDS Portal by making a sequence of http GET requests to the server.\n",
    "- pandas, numpy: Used for data processing and organization.\n",
    "- pyart: Radar library used for reading, displaying and analyzing radar data\n",
    "- os, six, shutil: Used for file handling and file folder operations\n",
    "- datetime: Used to represent time into standard format\n",
    "- matplotlib: Plotting data\n",
    "- geopy: For accurate distance calculation between coordinates\n",
    "- pickle: Storing variables\n",
    "- requests: This package is used for storing and retreiving data from the CHORDS Portal"
   ]
  },
  {
   "cell_type": "code",
   "execution_count": 1,
   "id": "89e607ad",
   "metadata": {},
   "outputs": [
    {
     "name": "stdout",
     "output_type": "stream",
     "text": [
      "\n",
      "## You are using the Python ARM Radar Toolkit (Py-ART), an open source\n",
      "## library for working with weather radar data. Py-ART is partly\n",
      "## supported by the U.S. Department of Energy as part of the Atmospheric\n",
      "## Radiation Measurement (ARM) Climate Research Facility, an Office of\n",
      "## Science user facility.\n",
      "##\n",
      "## If you use this software to prepare a publication, please cite:\n",
      "##\n",
      "##     JJ Helmus and SM Collis, JORS 2016, doi: 10.5334/jors.119\n",
      "\n"
     ]
    }
   ],
   "source": [
    "import requests\n",
    "import pandas as pd\n",
    "import numpy as np\n",
    "import pyart\n",
    "import os\n",
    "import six\n",
    "import nexradaws\n",
    "from datetime import datetime\n",
    "import shutil\n",
    "import matplotlib.pyplot as plt\n",
    "import geopy.distance\n",
    "import pickle\n",
    "import datetime as dt\n",
    "import numpy.ma as ma\n",
    "import time"
   ]
  },
  {
   "cell_type": "markdown",
   "id": "d954bc9f",
   "metadata": {},
   "source": [
    "### Functions for Data Preprocessing example (Download, Grid, calculate closest grid point with respect to gauges, align reflectivity and gauge observations)\n",
    "\n",
    "- In this section, we have provided the individual functions that are used for Downloading, Gridding and then aligning the radar reflectivity with gauge observations. Downloading and Gridding the data requires a lot of time and storage space. But if a limited storage space is available, just like in our demonstration case, aligning and saving only the required information is very beneficial. After aligning is done we can delete the downloaded data as we do not require it again.\n",
    "\n",
    "\n",
    "- The grid point matrix calculation is one of the critical steps required in aligning the radar and gauge data. The generate_grid_point_matrix function calculates the nearest radar observation gridpoint to every gauge in our dataset. This is a time and compute expensive step but as the positions of gauges relative to the radar always remain constant, we need to evaluate this matrix only once. We can reuse this matrix again for further alignment once it is calculated. Therefore, after creating the matrix, we will store in a .pkl file so that we can access it directly for future tasks.\n",
    "\n",
    "\n",
    "- Later, the aligned data is stored on the CHORDS portal so that it can be used for our machine learning task later. The data is stored on the portal by making multiple GET requests to the server. If these steps are executed in real time, we could even use the data for real time prediction of the Rain Cases.\n",
    "\n",
    "- Here is the link for our [CHORDS portal](http://ec2-18-220-56-38.us-east-2.compute.amazonaws.com/)"
   ]
  },
  {
   "cell_type": "code",
   "execution_count": 2,
   "id": "075e91c0",
   "metadata": {},
   "outputs": [
    {
     "name": "stderr",
     "output_type": "stream",
     "text": [
      "/home/owner/anaconda3/envs/earthcube_env/lib/python3.7/site-packages/ipykernel/ipkernel.py:283: DeprecationWarning: `should_run_async` will not call `transform_cell` automatically in the future. Please pass the result to `transformed_cell` argument and any exception that happen during thetransform in `preprocessing_exc_tuple` in IPython 7.17 and above.\n",
      "  and should_run_async(code)\n"
     ]
    }
   ],
   "source": [
    "# This function creates a grid point matrix, where each gauge is assigned a gridpoint which is closest to gauge location\n",
    "def generate_grid_point_matrix(gridded_data_folder, radar_filename, gauge_files, grid):\n",
    "    grid_x, grid_y = grid.x['data'].shape[0], grid.y['data'].shape[0]\n",
    "    grid_point_matrix = {\"gauge_id\": [],\n",
    "                       \"row_index\": [],\n",
    "                       \"column_index\": [],\n",
    "                       \"latitude\": [],\n",
    "                       \"longitude\": []}\n",
    "\n",
    "    for gauge_file in gauge_files:\n",
    "        gauge_data = pd.read_csv(gauge_csv_files + gauge_file)\n",
    "        gauge_data = gauge_data.values\n",
    "        latitude = gauge_data[1, 1]\n",
    "        longitude = gauge_data[1, 2]\n",
    "    \n",
    "        #Find the distance of the gauge to every gridpoint location\n",
    "        grid_latitude_matrix = grid.get_point_longitude_latitude(level=2)[1]\n",
    "        grid_longitude_matrix = grid.get_point_longitude_latitude(level=2)[0]\n",
    "        distance_matrix = grid.get_point_longitude_latitude(level=2)[0]\n",
    "        distance_matrix[:, :] = 9999\n",
    "        for coord1 in range(0,grid_x):\n",
    "            for coord2 in range(0, grid_y):\n",
    "                distance_matrix[coord1, coord2] = geopy.distance.distance((latitude, longitude),\n",
    "                                                             (grid_latitude_matrix[coord1, coord2],\n",
    "                                                             grid_longitude_matrix[coord1, coord2])).km\n",
    "\n",
    "        #Find the closest gridpoint to the rain gauge\n",
    "        gauge_id = int(gauge_file[0:3])\n",
    "        min_distance = np.amin(distance_matrix)\n",
    "        closest_grid_point = np.where(distance_matrix==min_distance)\n",
    "        row_index, column_index = closest_grid_point[0][0], closest_grid_point[1][0]\n",
    "        closest_lat_long = [grid_latitude_matrix[closest_grid_point[0], closest_grid_point[1]], grid_longitude_matrix[closest_grid_point[0], closest_grid_point[1]]]\n",
    "        grid_point_matrix['gauge_id'].append(gauge_id)\n",
    "        grid_point_matrix['row_index'].append(row_index)\n",
    "        grid_point_matrix['column_index'].append(column_index)\n",
    "        grid_point_matrix['latitude'].append(closest_lat_long[0][0])\n",
    "        grid_point_matrix['longitude'].append(closest_lat_long[1][0])\n",
    "    #Save the locations of grid points in a variable file\n",
    "    with open('grid_point_matrix.pkl', 'wb') as f:\n",
    "        pickle.dump(grid_point_matrix, f)\n",
    "    print(f'Grid point matrix created and saved in pkl file')\n",
    "    return grid_point_matrix\n",
    "\n",
    "\n",
    "# recreate folders to ensure that we do not have old files in our folders\n",
    "def recreate_folder(folder):\n",
    "    shutil.rmtree(folder, ignore_errors=True)\n",
    "    os.mkdir(folder)\n",
    "\n",
    "\n",
    "# This function downloads WSR-88D radar data\n",
    "def download_radar_data(download_folder, unzipped_data_folder, scan):\n",
    "    # Download a file\n",
    "    localfiles = conn.download(scan, download_folder)\n",
    "    radar_filename = sorted(os.listdir(download_folder))[0]\n",
    "    radar_filepath = download_folder + radar_filename\n",
    "    # Remove MDM files as we do not need them\n",
    "    if '_MDM' in radar_filename:\n",
    "        os.remove(radar_filepath)\n",
    "    else:\n",
    "        # Unzip downloaded data if it is zipped\n",
    "        if (radar_filename[-3:] == '.gz'):\n",
    "            with gzip.open(radar_filepath, 'rb') as f_in:\n",
    "                with open(unzipped_data_folder + radar_filename[:-3], 'wb') as f_out:\n",
    "                    shutil.copyfileobj(f_in, f_out)\n",
    "            radar_filename = radar_filename[:-3]\n",
    "        else:\n",
    "            shutil.move(radar_filepath, unzipped_data_folder + radar_filename)\n",
    "    return radar_filename\n",
    "\n",
    "\n",
    "# This function grids the WSR-88D data using pyart\n",
    "def grid_data(unzipped_data_folder, gridded_data_folder, radar_filename):\n",
    "    grid_x, grid_y, grid_z = 160, 160, 4\n",
    "    grid_range_x, grid_range_y, grid_range_z = (-100000., 100000), (-100000., 100000.), (1500., 4500.)\n",
    "    radar = pyart.io.read_nexrad_archive(unzipped_data_folder + radar_filename)\n",
    "    grid = pyart.map.grid_from_radars(radar,\n",
    "                                    grid_shape = (grid_z, grid_x, grid_y),\n",
    "                                    grid_limits = (grid_range_z, grid_range_x, grid_range_z,),\n",
    "                                    gridding_algo='map_gates_to_grid', weighting_function = 'Barnes2')\n",
    "    pyart.io.write_grid(gridded_data_folder + radar_filename, grid)\n",
    "    os.remove(unzipped_data_folder + radar_filename)\n",
    "    print(f'Gridding Successful on {radar_filename}')\n",
    "    return grid\n",
    "\n",
    "\n",
    "# This functions finally aligns the radar and gauge data by using the grid_point_matrix calculated by us\n",
    "def align_and_push_to_CHORDS(grid, grid_point_matrix, gauge_files, radar_filename):\n",
    "    gauge_time_stamps = {}\n",
    "    gauge_data = {}\n",
    "    for gauge_file in gauge_files:\n",
    "        gauge_data[f'{int(gauge_file[0:3])}'] = pd.read_csv(gauge_csv_files + gauge_file).values\n",
    "        gauge_time_stamps[f'{int(gauge_file[0:3])}'] = []\n",
    "        for count in range(0, gauge_data[f'{int(gauge_file[0:3])}'].shape[0]):\n",
    "            gts = []\n",
    "            for ct in range(3, gauge_data[f'{int(gauge_file[0:3])}'].shape[1]):\n",
    "                gts.append(int(gauge_data[f'{int(gauge_file[0:3])}'][count, ct]))\n",
    "            gauge_time_stamps[f'{int(gauge_file[0:3])}'].append(dt.datetime(gts[0], gts[1], gts[2], gts[3], gts[4]))\n",
    "        gauge_time_stamps[f'{int(gauge_file[0:3])}'] = np.asarray(gauge_time_stamps[f'{int(gauge_file[0:3])}']).reshape(-1, 1)\n",
    "\n",
    "    max_buffer = dt.timedelta(minutes=5)\n",
    "    min_buffer = dt.timedelta()\n",
    "\n",
    "    grid.fields['reflectivity']['data'][1].mask = ma.nomask\n",
    "    grid_x, grid_y = grid.x['data'].shape[0], grid.y['data'].shape[0]\n",
    "    grid_site = radar_filename[0:4]\n",
    "    grid_year = int(radar_filename[4:8])\n",
    "    grid_month = int(radar_filename[8:10])\n",
    "    grid_day = int(radar_filename[10:12])\n",
    "    grid_hour = int(radar_filename[13:15])\n",
    "    grid_min = int(radar_filename[15:17])\n",
    "    grid_sec = int(radar_filename[17:19])\n",
    "    grid_timestamp = dt.datetime(grid_year, grid_month, grid_day, grid_hour, grid_min, grid_sec)\n",
    "    for gauge_file in gauge_files:\n",
    "        gauge_id = int(gauge_file[0:3])\n",
    "        avg_rr = 0\n",
    "        rain_rates = gauge_data[f'{gauge_id}'][np.where((gauge_time_stamps[f'{gauge_id}'] - grid_timestamp <= max_buffer) & (gauge_time_stamps[f'{gauge_id}'] -grid_timestamp >= min_buffer))[0], -1].reshape(-1, 1)\n",
    "        rain_rates[np.where(rain_rates < 0)] = 0\n",
    "        if (rain_rates.shape[0] == 0):\n",
    "            avg_rr = 0\n",
    "            rain_class = 0\n",
    "        else:\n",
    "            avg_rr = np.sum(rain_rates)/rain_rates.shape[0]\n",
    "            rain_class = 1\n",
    "        grid_index = grid_point_matrix['gauge_id'].index(gauge_id)\n",
    "        row_index, column_index = grid_point_matrix['row_index'][grid_index], grid_point_matrix['column_index'][grid_index]\n",
    "        alt_1 = replace_if_nan(grid.fields['reflectivity']['data'][0][row_index, column_index])\n",
    "        alt_2 = replace_if_nan(grid.fields['reflectivity']['data'][1][row_index, column_index])\n",
    "        alt_3 = replace_if_nan(grid.fields['reflectivity']['data'][2][row_index, column_index])\n",
    "        alt_4 = replace_if_nan(grid.fields['reflectivity']['data'][3][row_index, column_index])\n",
    "        reflectivity_array = np.asarray([alt_1, alt_2, alt_3, alt_4])\n",
    "        reflectivity_array[np.where(reflectivity_array == -9999)] = -25\n",
    "        push_to_CHORDS_portal(gauge_id, reflectivity_array, avg_rr, rain_class, grid_year, grid_month, grid_day, grid_hour, grid_min, grid_sec)\n",
    "    print(f'Gauge and Radar data ')\n",
    "\n",
    "# Function to replace the nan values in reflectivity to -9999\n",
    "def replace_if_nan(reflectivity_value):\n",
    "    if (reflectivity_value == '--'):\n",
    "        corrected_reflectivity = -9999\n",
    "    else:\n",
    "        corrected_reflectivity = reflectivity_value\n",
    "    return corrected_reflectivity\n",
    "\n",
    "# Finally this function stores the aligned data on the CHORDS Server\n",
    "def push_to_CHORDS_portal(gauge_id, reflectivity_array, avg_rr, rain_class, grid_year, grid_month, grid_day, grid_hour, grid_min, grid_sec):\n",
    "    #save gauge information and corresponding radar reflectivity\n",
    "    time.sleep(0.2)\n",
    "    gauge_url = f'http://ec2-18-220-56-38.us-east-2.compute.amazonaws.com/measurements/url_create?sensor_id={gauge_id}&rr={avg_rr}&rc={rain_class}&ref_1p5={reflectivity_array[0]}&ref_2p5={reflectivity_array[1]}&ref_3p5={reflectivity_array[2]}&ref_4p5={reflectivity_array[3]}&at={int(grid_year):04}-{int(grid_month):02}-{int(grid_day):02}T{int(grid_hour):02}:{int(grid_min):02}:{int(grid_sec):02}&email=measurer@me&api_key=EWETsZ9SfzGPsbXT7LTJ&test'\n",
    "    gauge_response = requests.get(url=gauge_url)"
   ]
  },
  {
   "cell_type": "markdown",
   "id": "0315de29",
   "metadata": {},
   "source": [
    "### Implementation of data preprocessing using the functions defined above.\n",
    "\n",
    "Now that we have our preprocessing functions defined, we will execute these functions to create a small dataset. This section gives a small demonstration of the process that we will be following by processing 2-3 radar files with 19 gauges. This same procedure can be easily used for real time operations by just changing the dates and timestamps. As aligning also depends on the rain gauge data, remember to also download the rain gauge data before changing the timestamps in the given code. We have included the gauge dataset for the year 2017 along with this notebook, so feel free to explore any date for the year 2017."
   ]
  },
  {
   "cell_type": "code",
   "execution_count": 3,
   "id": "ae3de6a9",
   "metadata": {},
   "outputs": [
    {
     "name": "stderr",
     "output_type": "stream",
     "text": [
      "/home/owner/anaconda3/envs/earthcube_env/lib/python3.7/site-packages/ipykernel/ipkernel.py:283: DeprecationWarning: `should_run_async` will not call `transform_cell` automatically in the future. Please pass the result to `transformed_cell` argument and any exception that happen during thetransform in `preprocessing_exc_tuple` in IPython 7.17 and above.\n",
      "  and should_run_async(code)\n"
     ]
    },
    {
     "name": "stdout",
     "output_type": "stream",
     "text": [
      "Downloaded KMLB20170723_010431_V06\n",
      "1 out of 1 files downloaded...0 errors\n",
      "Gridding Successful on KMLB20170723_010431_V06\n",
      "Grid point matrix created and saved in pkl file\n"
     ]
    },
    {
     "name": "stderr",
     "output_type": "stream",
     "text": [
      "/home/owner/anaconda3/envs/earthcube_env/lib/python3.7/site-packages/numpy/core/_asarray.py:102: UserWarning: Warning: converting a masked element to nan.\n",
      "  return array(a, dtype, copy=False, order=order)\n"
     ]
    },
    {
     "name": "stdout",
     "output_type": "stream",
     "text": [
      "Gauge and Radar data \n",
      "Downloaded KMLB20170723_010925_V06\n",
      "1 out of 1 files downloaded...0 errors\n",
      "Gridding Successful on KMLB20170723_010925_V06\n"
     ]
    },
    {
     "name": "stderr",
     "output_type": "stream",
     "text": [
      "/home/owner/anaconda3/envs/earthcube_env/lib/python3.7/site-packages/numpy/core/_asarray.py:102: UserWarning: Warning: converting a masked element to nan.\n",
      "  return array(a, dtype, copy=False, order=order)\n"
     ]
    },
    {
     "name": "stdout",
     "output_type": "stream",
     "text": [
      "Gauge and Radar data \n"
     ]
    }
   ],
   "source": [
    "# This section of code runs the functions that Download, Grid, Align and Save the aligned data on CHORDS Portal\n",
    "\n",
    "# Set folder paths and recreate all the folders\n",
    "download_folder = './downloaded_data/'\n",
    "unzipped_data_folder = './unzipped_data/'\n",
    "gridded_data_folder = './gridded_data/'\n",
    "gauge_csv_files = './gauge_data/'\n",
    "\n",
    "gauge_files = sorted(os.listdir(gauge_csv_files))\n",
    "\n",
    "recreate_folder(download_folder)\n",
    "recreate_folder(unzipped_data_folder)\n",
    "recreate_folder(gridded_data_folder)\n",
    "\n",
    "# Set the dates for which we want to create a dataset\n",
    "conn = nexradaws.NexradAwsInterface()\n",
    "radar_name = 'KMLB'\n",
    "start = datetime(2017,7,23,1,3) #year, month, day, hour, minute\n",
    "end = datetime(2017,7,23,1, 12) #year, month, day, hour, minute\n",
    "scans = conn.get_avail_scans_in_range(start, end, radar_name)\n",
    "\n",
    "for scan_index in range(0, len(scans)):\n",
    "    # Download WSD-88D data\n",
    "    radar_filename = download_radar_data(download_folder, unzipped_data_folder, scans[scan_index])\n",
    "    if '_MDM' not in radar_filename:\n",
    "        # Grid the downloaded data\n",
    "        grid = grid_data(unzipped_data_folder, gridded_data_folder, radar_filename)\n",
    "    if scan_index == 0:\n",
    "        # Calculate the grid point matrix using the first downloaded data file\n",
    "        grid_point_matrix = generate_grid_point_matrix(gridded_data_folder, radar_filename, gauge_files, grid)\n",
    "    # Save data on the CHORDS portal\n",
    "    align_and_push_to_CHORDS(grid, grid_point_matrix, gauge_files, radar_filename)"
   ]
  },
  {
   "cell_type": "markdown",
   "id": "59953c2d",
   "metadata": {},
   "source": [
    "- As we can see that downloading, reading, gridding and aligning data takes a lot of time. It would be beneficial if this whole process was done in real-time so that the observations would be available to users for estimation of the class of rainfall in real time.\n",
    "\n",
    "- We have already performed this whole process for some data and saved it on our CHORDS portal. We will now download this previously pre-processed data for the demonstration of our Deep learning approach."
   ]
  },
  {
   "cell_type": "markdown",
   "id": "ecb7c98b",
   "metadata": {},
   "source": [
    "### Downloading data from the CHORDS portal\n",
    "\n",
    "Now that we have seen the preprocessing procedure involved,let us start with the Deep learning part of the project. To speed up the process, we will demonstrate the Deep Learning procedure on July and August 2017 data which we have already saved on our CHORDS Portal. This section of the project downloads the data from the Portal."
   ]
  },
  {
   "cell_type": "code",
   "execution_count": 4,
   "id": "f04b502a",
   "metadata": {},
   "outputs": [
    {
     "name": "stderr",
     "output_type": "stream",
     "text": [
      "/home/owner/anaconda3/envs/earthcube_env/lib/python3.7/site-packages/ipykernel/ipkernel.py:283: DeprecationWarning: `should_run_async` will not call `transform_cell` automatically in the future. Please pass the result to `transformed_cell` argument and any exception that happen during thetransform in `preprocessing_exc_tuple` in IPython 7.17 and above.\n",
      "  and should_run_async(code)\n"
     ]
    }
   ],
   "source": [
    "def download_data(sensor_id):\n",
    "    download_url = f'http://ec2-18-220-56-38.us-east-2.compute.amazonaws.com/api/v1/data/{sensor_id}.csv?start=2015-08-01T00:30&end=2021-05-15T01:30'\n",
    "    req = requests.get(download_url, allow_redirects=True)\n",
    "    time.sleep(0.2)\n",
    "    open('sensor.csv', 'wb').write(req.content)\n",
    "\n",
    "def remove_header_and_save():\n",
    "    f = open(\"sensor.csv\", \"r\")\n",
    "    lines = f.readlines()\n",
    "    f.close()\n",
    "    f = open(\"sensor.csv\", \"w\")\n",
    "    f.writelines(lines[18:])\n",
    "    f.close()\n",
    "    file = pd.read_csv('sensor.csv', delimiter=',')\n",
    "    val = file.values\n",
    "    return val"
   ]
  },
  {
   "cell_type": "code",
   "execution_count": 5,
   "id": "7b7928cd",
   "metadata": {},
   "outputs": [
    {
     "name": "stderr",
     "output_type": "stream",
     "text": [
      "/home/owner/anaconda3/envs/earthcube_env/lib/python3.7/site-packages/ipykernel/ipkernel.py:283: DeprecationWarning: `should_run_async` will not call `transform_cell` automatically in the future. Please pass the result to `transformed_cell` argument and any exception that happen during thetransform in `preprocessing_exc_tuple` in IPython 7.17 and above.\n",
      "  and should_run_async(code)\n"
     ]
    }
   ],
   "source": [
    "for id in range(1, 45):\n",
    "    download_data(id)\n",
    "    values = remove_header_and_save()\n",
    "    try:\n",
    "        _ = dataset.shape\n",
    "        dataset = np.concatenate((dataset, values), axis = 0)\n",
    "    except:\n",
    "        dataset = values"
   ]
  },
  {
   "cell_type": "markdown",
   "id": "aab264fa",
   "metadata": {},
   "source": [
    "### Visualizing the downloaded data\n",
    "\n",
    "- In this section we will visualize the downloaded data. This step hepls us to verify the integrity of the data.\n",
    "- The below graph plots the Vertical profile of the radar (X-axis) and Rain rate of gauges (Y-axis)."
   ]
  },
  {
   "cell_type": "code",
   "execution_count": 6,
   "id": "f5a4afd0",
   "metadata": {},
   "outputs": [
    {
     "name": "stderr",
     "output_type": "stream",
     "text": [
      "/home/owner/anaconda3/envs/earthcube_env/lib/python3.7/site-packages/ipykernel/ipkernel.py:283: DeprecationWarning: `should_run_async` will not call `transform_cell` automatically in the future. Please pass the result to `transformed_cell` argument and any exception that happen during thetransform in `preprocessing_exc_tuple` in IPython 7.17 and above.\n",
      "  and should_run_async(code)\n"
     ]
    },
    {
     "data": {
      "text/plain": [
       "Text(0.5, 1.0, 'Reflectivity vs Rain Rate')"
      ]
     },
     "execution_count": 6,
     "metadata": {},
     "output_type": "execute_result"
    },
    {
     "data": {
      "image/png": "[encoded data removed]",
      "text/plain": [
       "<Figure size 432x288 with 1 Axes>"
      ]
     },
     "metadata": {
      "needs_background": "light"
     },
     "output_type": "display_data"
    }
   ],
   "source": [
    "plt.plot(list(dataset[:, 3]), list(dataset[:, 1]), 'o', label='1.5km')\n",
    "plt.plot(list(dataset[:, 4]), list(dataset[:, 1]), 'o', label='2.5km')\n",
    "plt.plot(list(dataset[:, 5]), list(dataset[:, 1]), 'o', label='3.5km')\n",
    "plt.plot(list(dataset[:, 6]), list(dataset[:, 1]), 'o', label='4.5km')\n",
    "plt.xlabel('Reflectivity')\n",
    "plt.ylabel('Rain Rate')\n",
    "plt.xlim(0, 60)\n",
    "plt.ylim(0, 60)\n",
    "plt.legend(loc=1)\n",
    "plt.title(f'Reflectivity vs Rain Rate')"
   ]
  },
  {
   "cell_type": "markdown",
   "id": "d92917fa",
   "metadata": {},
   "source": [
    "### Quantative Precipitation Estimation using Deep Learning\n",
    "\n",
    "- This is the final section of our notebook. In this section we have represented how a Deep Learning model is used for Classification of Precipitation based on our downloaded dataset.\n",
    "- As the number of observations for No-Rain Classes are greater that the observations of Rain Classes, we need to use class weights in the loss function to make the model work better. The samples of No-Rain classes would always be less than the Rain Class samples because Rain is an uncommon phenomenon as compared to No-rain. Because this is one of the major factors affecting the effectiveness of Deep Learning on data, this is one of the critical steps that need to be performed to make the model work well."
   ]
  },
  {
   "cell_type": "code",
   "execution_count": 7,
   "id": "e101c441",
   "metadata": {},
   "outputs": [
    {
     "name": "stderr",
     "output_type": "stream",
     "text": [
      "/home/owner/anaconda3/envs/earthcube_env/lib/python3.7/site-packages/ipykernel/ipkernel.py:283: DeprecationWarning: `should_run_async` will not call `transform_cell` automatically in the future. Please pass the result to `transformed_cell` argument and any exception that happen during thetransform in `preprocessing_exc_tuple` in IPython 7.17 and above.\n",
      "  and should_run_async(code)\n",
      "/home/owner/anaconda3/envs/earthcube_env/lib/python3.7/site-packages/tensorflow/python/framework/dtypes.py:513: DeprecationWarning: `np.object` is a deprecated alias for the builtin `object`. To silence this warning, use `object` by itself. Doing this will not modify any behavior and is safe. \n",
      "Deprecated in NumPy 1.20; for more details and guidance: https://numpy.org/devdocs/release/1.20.0-notes.html#deprecations\n",
      "  np.object,\n",
      "/home/owner/anaconda3/envs/earthcube_env/lib/python3.7/site-packages/tensorflow/python/framework/dtypes.py:521: DeprecationWarning: `np.bool` is a deprecated alias for the builtin `bool`. To silence this warning, use `bool` by itself. Doing this will not modify any behavior and is safe. If you specifically wanted the numpy scalar type, use `np.bool_` here.\n",
      "Deprecated in NumPy 1.20; for more details and guidance: https://numpy.org/devdocs/release/1.20.0-notes.html#deprecations\n",
      "  np.bool,\n",
      "/home/owner/anaconda3/envs/earthcube_env/lib/python3.7/site-packages/tensorflow/python/framework/dtypes.py:555: DeprecationWarning: `np.object` is a deprecated alias for the builtin `object`. To silence this warning, use `object` by itself. Doing this will not modify any behavior and is safe. \n",
      "Deprecated in NumPy 1.20; for more details and guidance: https://numpy.org/devdocs/release/1.20.0-notes.html#deprecations\n",
      "  np.object,\n",
      "/home/owner/anaconda3/envs/earthcube_env/lib/python3.7/site-packages/tensorflow/python/framework/dtypes.py:565: DeprecationWarning: `np.bool` is a deprecated alias for the builtin `bool`. To silence this warning, use `bool` by itself. Doing this will not modify any behavior and is safe. If you specifically wanted the numpy scalar type, use `np.bool_` here.\n",
      "Deprecated in NumPy 1.20; for more details and guidance: https://numpy.org/devdocs/release/1.20.0-notes.html#deprecations\n",
      "  np.bool,\n",
      "/home/owner/anaconda3/envs/earthcube_env/lib/python3.7/site-packages/tensorflow/python/framework/tensor_util.py:108: DeprecationWarning: `np.object` is a deprecated alias for the builtin `object`. To silence this warning, use `object` by itself. Doing this will not modify any behavior and is safe. \n",
      "Deprecated in NumPy 1.20; for more details and guidance: https://numpy.org/devdocs/release/1.20.0-notes.html#deprecations\n",
      "  np.object:\n",
      "/home/owner/anaconda3/envs/earthcube_env/lib/python3.7/site-packages/tensorflow/python/framework/tensor_util.py:110: DeprecationWarning: `np.bool` is a deprecated alias for the builtin `bool`. To silence this warning, use `bool` by itself. Doing this will not modify any behavior and is safe. If you specifically wanted the numpy scalar type, use `np.bool_` here.\n",
      "Deprecated in NumPy 1.20; for more details and guidance: https://numpy.org/devdocs/release/1.20.0-notes.html#deprecations\n",
      "  np.bool:\n",
      "/home/owner/anaconda3/envs/earthcube_env/lib/python3.7/site-packages/tensorflow/python/ops/numpy_ops/np_random.py:95: DeprecationWarning: `np.int` is a deprecated alias for the builtin `int`. To silence this warning, use `int` by itself. Doing this will not modify any behavior and is safe. When replacing `np.int`, you may wish to use e.g. `np.int64` or `np.int32` to specify the precision. If you wish to review your current use, check the release note link for additional information.\n",
      "Deprecated in NumPy 1.20; for more details and guidance: https://numpy.org/devdocs/release/1.20.0-notes.html#deprecations\n",
      "  def randint(low, high=None, size=None, dtype=onp.int):  # pylint: disable=missing-function-docstring\n",
      "/home/owner/anaconda3/envs/earthcube_env/lib/python3.7/site-packages/tensorboard/compat/tensorflow_stub/dtypes.py:572: DeprecationWarning: `np.object` is a deprecated alias for the builtin `object`. To silence this warning, use `object` by itself. Doing this will not modify any behavior and is safe. \n",
      "Deprecated in NumPy 1.20; for more details and guidance: https://numpy.org/devdocs/release/1.20.0-notes.html#deprecations\n",
      "  (np.object, string),\n",
      "/home/owner/anaconda3/envs/earthcube_env/lib/python3.7/site-packages/tensorboard/compat/tensorflow_stub/dtypes.py:573: DeprecationWarning: `np.bool` is a deprecated alias for the builtin `bool`. To silence this warning, use `bool` by itself. Doing this will not modify any behavior and is safe. If you specifically wanted the numpy scalar type, use `np.bool_` here.\n",
      "Deprecated in NumPy 1.20; for more details and guidance: https://numpy.org/devdocs/release/1.20.0-notes.html#deprecations\n",
      "  (np.bool, bool),\n",
      "/home/owner/anaconda3/envs/earthcube_env/lib/python3.7/site-packages/tensorboard/compat/tensorflow_stub/dtypes.py:597: DeprecationWarning: `np.object` is a deprecated alias for the builtin `object`. To silence this warning, use `object` by itself. Doing this will not modify any behavior and is safe. \n",
      "Deprecated in NumPy 1.20; for more details and guidance: https://numpy.org/devdocs/release/1.20.0-notes.html#deprecations\n",
      "  types_pb2.DT_STRING: np.object,\n",
      "/home/owner/anaconda3/envs/earthcube_env/lib/python3.7/site-packages/tensorboard/compat/tensorflow_stub/dtypes.py:601: DeprecationWarning: `np.bool` is a deprecated alias for the builtin `bool`. To silence this warning, use `bool` by itself. Doing this will not modify any behavior and is safe. If you specifically wanted the numpy scalar type, use `np.bool_` here.\n",
      "Deprecated in NumPy 1.20; for more details and guidance: https://numpy.org/devdocs/release/1.20.0-notes.html#deprecations\n",
      "  types_pb2.DT_BOOL: np.bool,\n",
      "/home/owner/anaconda3/envs/earthcube_env/lib/python3.7/site-packages/tensorboard/compat/tensorflow_stub/dtypes.py:618: DeprecationWarning: `np.object` is a deprecated alias for the builtin `object`. To silence this warning, use `object` by itself. Doing this will not modify any behavior and is safe. \n",
      "Deprecated in NumPy 1.20; for more details and guidance: https://numpy.org/devdocs/release/1.20.0-notes.html#deprecations\n",
      "  types_pb2.DT_STRING_REF: np.object,\n",
      "/home/owner/anaconda3/envs/earthcube_env/lib/python3.7/site-packages/tensorboard/compat/tensorflow_stub/dtypes.py:623: DeprecationWarning: `np.bool` is a deprecated alias for the builtin `bool`. To silence this warning, use `bool` by itself. Doing this will not modify any behavior and is safe. If you specifically wanted the numpy scalar type, use `np.bool_` here.\n",
      "Deprecated in NumPy 1.20; for more details and guidance: https://numpy.org/devdocs/release/1.20.0-notes.html#deprecations\n",
      "  types_pb2.DT_BOOL_REF: np.bool,\n",
      "/home/owner/anaconda3/envs/earthcube_env/lib/python3.7/site-packages/tensorboard/util/tensor_util.py:113: DeprecationWarning: `np.object` is a deprecated alias for the builtin `object`. To silence this warning, use `object` by itself. Doing this will not modify any behavior and is safe. \n",
      "Deprecated in NumPy 1.20; for more details and guidance: https://numpy.org/devdocs/release/1.20.0-notes.html#deprecations\n",
      "  np.object: SlowAppendObjectArrayToTensorProto,\n",
      "/home/owner/anaconda3/envs/earthcube_env/lib/python3.7/site-packages/tensorboard/util/tensor_util.py:114: DeprecationWarning: `np.bool` is a deprecated alias for the builtin `bool`. To silence this warning, use `bool` by itself. Doing this will not modify any behavior and is safe. If you specifically wanted the numpy scalar type, use `np.bool_` here.\n",
      "Deprecated in NumPy 1.20; for more details and guidance: https://numpy.org/devdocs/release/1.20.0-notes.html#deprecations\n",
      "  np.bool: SlowAppendBoolArrayToTensorProto,\n"
     ]
    }
   ],
   "source": [
    "# First we need to import all the packages required to train and test our model \n",
    "# Tensorflow and Keras are used for implementing Deep Learning functions.\n",
    "# sklean is used for splitting and scaling data.\n",
    "\n",
    "import tensorflow as tf;\n",
    "from tensorflow import keras;\n",
    "\n",
    "from sklearn.model_selection import train_test_split;\n",
    "from sklearn.preprocessing import StandardScaler;"
   ]
  },
  {
   "cell_type": "code",
   "execution_count": 8,
   "id": "c744e3b6",
   "metadata": {},
   "outputs": [
    {
     "name": "stdout",
     "output_type": "stream",
     "text": [
      "Shapes of training, validation and testing sets: \n",
      "((3091, 4), (3091, 1), (773, 4), (773, 1), (967, 4), (967, 1))\n"
     ]
    },
    {
     "name": "stderr",
     "output_type": "stream",
     "text": [
      "/home/owner/anaconda3/envs/earthcube_env/lib/python3.7/site-packages/ipykernel/ipkernel.py:283: DeprecationWarning: `should_run_async` will not call `transform_cell` automatically in the future. Please pass the result to `transformed_cell` argument and any exception that happen during thetransform in `preprocessing_exc_tuple` in IPython 7.17 and above.\n",
      "  and should_run_async(code)\n"
     ]
    }
   ],
   "source": [
    "# Split the available data into training, validation and testing sets\n",
    "train_data, test_data = train_test_split(dataset, test_size=0.2, shuffle=True)\n",
    "train_data, val_data = train_test_split(train_data, test_size=0.2, shuffle=True)\n",
    "\n",
    "# Split each set into features and labels\n",
    "X_train, T_train = train_data[:, 3:], train_data[:, 2].reshape(-1, 1).astype('float64')\n",
    "X_val, T_val = val_data[:, 3:], val_data[:, 2].reshape(-1, 1).astype('float64')\n",
    "X_test, T_test = test_data[:, 3:], test_data[:, 2].reshape(-1, 1).astype('float64')\n",
    "print(f'Shapes of training, validation and testing sets: \\n{X_train.shape, T_train.shape, X_val.shape, T_val.shape, X_test.shape, T_test.shape}')"
   ]
  },
  {
   "cell_type": "code",
   "execution_count": 9,
   "id": "49301920",
   "metadata": {},
   "outputs": [
    {
     "name": "stderr",
     "output_type": "stream",
     "text": [
      "/home/owner/anaconda3/envs/earthcube_env/lib/python3.7/site-packages/ipykernel/ipkernel.py:283: DeprecationWarning: `should_run_async` will not call `transform_cell` automatically in the future. Please pass the result to `transformed_cell` argument and any exception that happen during thetransform in `preprocessing_exc_tuple` in IPython 7.17 and above.\n",
      "  and should_run_async(code)\n"
     ]
    },
    {
     "name": "stdout",
     "output_type": "stream",
     "text": [
      "Examples:\n",
      " Total: 4831\n",
      " Positive: 437 (9.05% of total)\n",
      "\n"
     ]
    }
   ],
   "source": [
    "#Calculate the ratio of Rain vs No_Rain cases\n",
    "no_rain, rain = np.bincount(pd.DataFrame(dataset, columns = ['timestamp', 'rr', 'rc', 'r_1', 'r_2', 'r_3', 'r_4'])['rc'])\n",
    "total_samples = no_rain + rain\n",
    "print('Examples:\\n Total: {}\\n Positive: {} ({:.2f}% of total)\\n'.format(total_samples, rain, 100*rain/total_samples))"
   ]
  },
  {
   "cell_type": "code",
   "execution_count": 10,
   "id": "c197e63c",
   "metadata": {},
   "outputs": [
    {
     "name": "stderr",
     "output_type": "stream",
     "text": [
      "/home/owner/anaconda3/envs/earthcube_env/lib/python3.7/site-packages/ipykernel/ipkernel.py:283: DeprecationWarning: `should_run_async` will not call `transform_cell` automatically in the future. Please pass the result to `transformed_cell` argument and any exception that happen during thetransform in `preprocessing_exc_tuple` in IPython 7.17 and above.\n",
      "  and should_run_async(code)\n"
     ]
    }
   ],
   "source": [
    "# Need to scale Radar Reflectivity\n",
    "sc = StandardScaler()\n",
    "X_train = sc.fit_transform(X_train)\n",
    "X_val, X_test = sc.transform(X_val), sc.transform(X_test)\n",
    "X_train, X_val, X_test = np.clip(X_train, -5, 5), np.clip(X_val, -5, 5), np.clip(X_test, -5, 5)"
   ]
  },
  {
   "cell_type": "code",
   "execution_count": 11,
   "id": "218ebbc9",
   "metadata": {},
   "outputs": [
    {
     "name": "stderr",
     "output_type": "stream",
     "text": [
      "/home/owner/anaconda3/envs/earthcube_env/lib/python3.7/site-packages/ipykernel/ipkernel.py:283: DeprecationWarning: `should_run_async` will not call `transform_cell` automatically in the future. Please pass the result to `transformed_cell` argument and any exception that happen during thetransform in `preprocessing_exc_tuple` in IPython 7.17 and above.\n",
      "  and should_run_async(code)\n"
     ]
    },
    {
     "name": "stdout",
     "output_type": "stream",
     "text": [
      "Weight for No_rain Class: 0.55\n",
      "Weight for class 1: 5.53\n"
     ]
    }
   ],
   "source": [
    "# Calculating the class weights to solve class imbalance problem.\n",
    "#  These values will be used in the Binary Crossentropy Loss function during training.\n",
    "\n",
    "no_rain_weight, rain_weight = (1/no_rain)*(total_samples)/2.0, (1/rain)*(total_samples)/2.0\n",
    "\n",
    "class_weight = {0: no_rain_weight, 1: rain_weight}\n",
    "\n",
    "print('Weight for No_rain Class: {:.2f}'.format(no_rain_weight))\n",
    "print('Weight for class 1: {:.2f}'.format(rain_weight))"
   ]
  },
  {
   "cell_type": "code",
   "execution_count": 12,
   "id": "a918ab1a",
   "metadata": {},
   "outputs": [
    {
     "name": "stderr",
     "output_type": "stream",
     "text": [
      "/home/owner/anaconda3/envs/earthcube_env/lib/python3.7/site-packages/ipykernel/ipkernel.py:283: DeprecationWarning: `should_run_async` will not call `transform_cell` automatically in the future. Please pass the result to `transformed_cell` argument and any exception that happen during thetransform in `preprocessing_exc_tuple` in IPython 7.17 and above.\n",
      "  and should_run_async(code)\n"
     ]
    },
    {
     "name": "stdout",
     "output_type": "stream",
     "text": [
      "Epoch 1/10\n",
      "49/49 [==============================] - 1s 19ms/step - loss: 0.5680 - accuracy: 0.6612 - val_loss: 0.5666 - val_accuracy: 0.6960\n",
      "Epoch 2/10\n",
      "49/49 [==============================] - 0s 7ms/step - loss: 0.4157 - accuracy: 0.7045 - val_loss: 0.5173 - val_accuracy: 0.7154\n",
      "Epoch 3/10\n",
      "49/49 [==============================] - 0s 7ms/step - loss: 0.3597 - accuracy: 0.7271 - val_loss: 0.4659 - val_accuracy: 0.7400\n",
      "Epoch 4/10\n",
      "49/49 [==============================] - 1s 11ms/step - loss: 0.3308 - accuracy: 0.7539 - val_loss: 0.4236 - val_accuracy: 0.7723\n",
      "Epoch 5/10\n",
      "49/49 [==============================] - 0s 5ms/step - loss: 0.3034 - accuracy: 0.8005 - val_loss: 0.3890 - val_accuracy: 0.7969\n",
      "Epoch 6/10\n",
      "49/49 [==============================] - 0s 6ms/step - loss: 0.2875 - accuracy: 0.8174 - val_loss: 0.3641 - val_accuracy: 0.8060\n",
      "Epoch 7/10\n",
      "49/49 [==============================] - 0s 6ms/step - loss: 0.2835 - accuracy: 0.8135 - val_loss: 0.3449 - val_accuracy: 0.8111\n",
      "Epoch 8/10\n",
      "49/49 [==============================] - 0s 7ms/step - loss: 0.2602 - accuracy: 0.8316 - val_loss: 0.3270 - val_accuracy: 0.8228\n",
      "Epoch 9/10\n",
      "49/49 [==============================] - 0s 6ms/step - loss: 0.2735 - accuracy: 0.8283 - val_loss: 0.3101 - val_accuracy: 0.8357\n",
      "Epoch 10/10\n",
      "49/49 [==============================] - 0s 8ms/step - loss: 0.2467 - accuracy: 0.8607 - val_loss: 0.3014 - val_accuracy: 0.8448\n"
     ]
    }
   ],
   "source": [
    "# Function for defining our DNN model\n",
    "def make_model():\n",
    "    model = tf.keras.Sequential([\n",
    "        keras.layers.Dense(18, activation='relu', input_dim=X_train.shape[1]),\n",
    "        keras.layers.Dense(1, activation='sigmoid')\n",
    "    ])\n",
    "    model.compile(\n",
    "    optimizer=keras.optimizers.Adam(),\n",
    "    loss = keras.losses.BinaryCrossentropy(),\n",
    "    metrics=keras.metrics.BinaryAccuracy(name='accuracy'))\n",
    "    return model\n",
    "\n",
    "# Make the model and train it on training data and validate on validation data\n",
    "model = make_model()\n",
    "history = model.fit(X_train, T_train, batch_size = 64, epochs = 10, validation_data = (X_val, T_val), class_weight=class_weight)"
   ]
  },
  {
   "cell_type": "markdown",
   "id": "10b7cc2d",
   "metadata": {},
   "source": [
    "## Results\n",
    "\n",
    "Let's take a look at the output of the Deep Learning model and evaluate it by examining the loss curve and Confusion matrix."
   ]
  },
  {
   "cell_type": "code",
   "execution_count": 13,
   "id": "aa164f25",
   "metadata": {},
   "outputs": [
    {
     "name": "stderr",
     "output_type": "stream",
     "text": [
      "/home/owner/anaconda3/envs/earthcube_env/lib/python3.7/site-packages/ipykernel/ipkernel.py:283: DeprecationWarning: `should_run_async` will not call `transform_cell` automatically in the future. Please pass the result to `transformed_cell` argument and any exception that happen during thetransform in `preprocessing_exc_tuple` in IPython 7.17 and above.\n",
      "  and should_run_async(code)\n"
     ]
    },
    {
     "data": {
      "text/plain": [
       "[<matplotlib.lines.Line2D at 0x7f10fc498dd0>]"
      ]
     },
     "execution_count": 13,
     "metadata": {},
     "output_type": "execute_result"
    },
    {
     "data": {
      "image/png": "[encoded data removed]",
      "text/plain": [
       "<Figure size 432x288 with 1 Axes>"
      ]
     },
     "metadata": {
      "needs_background": "light"
     },
     "output_type": "display_data"
    }
   ],
   "source": [
    "# Let us take a look at the loss change during training\n",
    "plt.plot(history.history['loss'])"
   ]
  },
  {
   "cell_type": "code",
   "execution_count": 14,
   "id": "8959ada1",
   "metadata": {},
   "outputs": [
    {
     "name": "stderr",
     "output_type": "stream",
     "text": [
      "/home/owner/anaconda3/envs/earthcube_env/lib/python3.7/site-packages/ipykernel/ipkernel.py:283: DeprecationWarning: `should_run_async` will not call `transform_cell` automatically in the future. Please pass the result to `transformed_cell` argument and any exception that happen during thetransform in `preprocessing_exc_tuple` in IPython 7.17 and above.\n",
      "  and should_run_async(code)\n"
     ]
    }
   ],
   "source": [
    "# The functions in this section are used to print the confusion matrix\n",
    "\n",
    "def percent_correct(Y, T):\n",
    "        return np.mean(Y==T) * 100\n",
    "    \n",
    "\n",
    "def confusion_matrix(Y_classes, T):\n",
    "    class_names = np.unique(T)\n",
    "    table = []\n",
    "    for true_class in class_names:\n",
    "        row = []\n",
    "        for Y_class in class_names:\n",
    "            row.append(100 * np.mean(Y_classes[T == true_class] == Y_class))\n",
    "        table.append(row)\n",
    "    conf_matrix = pd.DataFrame(table, index=class_names, columns=class_names)\n",
    "    conf_matrix.style.background_gradient(cmap='Blues').format(\"{:.1f}\")\n",
    "    print(f'Percent Correct is {percent_correct(Y_classes, T)}')\n",
    "    return conf_matrix\n",
    "\n",
    "\n",
    "# Function to binarize the values predicted by our model\n",
    "def binarize(predictions, threshold):\n",
    "    for index in range(0, predictions.shape[0]):\n",
    "        if (predictions[index, 0] > threshold):\n",
    "            predictions[index, 0] = 1\n",
    "        else:\n",
    "            predictions[index, 0] = 0\n",
    "    return predictions"
   ]
  },
  {
   "cell_type": "code",
   "execution_count": 15,
   "id": "752e9554",
   "metadata": {},
   "outputs": [
    {
     "name": "stderr",
     "output_type": "stream",
     "text": [
      "/home/owner/anaconda3/envs/earthcube_env/lib/python3.7/site-packages/ipykernel/ipkernel.py:283: DeprecationWarning: `should_run_async` will not call `transform_cell` automatically in the future. Please pass the result to `transformed_cell` argument and any exception that happen during thetransform in `preprocessing_exc_tuple` in IPython 7.17 and above.\n",
      "  and should_run_async(code)\n"
     ]
    },
    {
     "name": "stdout",
     "output_type": "stream",
     "text": [
      "Percent Correct is 86.0392967942089\n",
      "           0.0        1.0\n",
      "0.0  84.971751  15.028249\n",
      "1.0   2.439024  97.560976\n"
     ]
    }
   ],
   "source": [
    "# Predict the class values of our test set\n",
    "model_output = model.predict(X_test)\n",
    "binarized_classes = binarize(model_output, 0.5)\n",
    "\n",
    "# Print the confusion matrix of the training set\n",
    "conf_matrix = confusion_matrix(binarized_classes, T_test)\n",
    "print(conf_matrix)"
   ]
  },
  {
   "cell_type": "markdown",
   "id": "58575bf6",
   "metadata": {},
   "source": [
    "The confusion matrix represents the effectiveness of the model in classifying the data. Here is the format of the confusion matrix.\n",
    "\n",
    "|  | Predicted No-Rain | Predicted Rain |\n",
    "| --- | --- | --- |\n",
    "| **Actual No-Rain events** | True Negatives | False Positives |\n",
    "| **Actual Rain events** | False Negatives | True Positives |\n",
    "\n",
    "As the purpose is always to successfully detect the rain cases, two most important quantities for analyzing the model is the percent of True Positives and False Negatives. The value of True Positives should be as high as possible (maximum 100%) and the value of False Negatives should be as low as possible (minimun 0%)."
   ]
  },
  {
   "cell_type": "markdown",
   "id": "e0ad3e92",
   "metadata": {},
   "source": [
    "## Keywords\n",
    "keywords=[\"Quantative Precipitation Estimation (QPE)\", \"Deep Learning\", \"Rain Classification\", \"Radar data aligning\", \"Cloud Hosted Real Time Data (CHORDS)\"]"
   ]
  },
  {
   "cell_type": "markdown",
   "id": "58b2ebe0",
   "metadata": {},
   "source": [
    "## Citation\n",
    "\n",
    "\n",
    "1.   `Michael D. Daniels, Branko Kerkez, V. Chandrasekar, Sara Graves, D. Sarah Stamps, Charles Martin, Aaron Botnick, Michael Dye, Ryan Gooch, Josh Jones, Ken Keiser, Matthew Bartos, Thaovy Nguyen, Robyn Collins, Sophia Chen, Terrie Yang, Abbi Devins-Suresh (2016). Cloud-Hosted Real-time Data Services for the Geosciences (CHORDS) software (Version 1.0.1). UCAR/NCAR - EarthCube. https://doi.org/10.5065/d6v1236q`\n",
    "2.  `H. Liu, V. Chandrasekar and E. Gorgucci, \"Detection of rain/no rain condition on the ground based on radar observations,\" in IEEE Transactions on Geoscience and Remote Sensing, vol. 39, no. 3, pp. 696-699, March 2001, doi: 10.1109/36.911127.`\n"
   ]
  }
 ],
 "metadata": {
  "kernelspec": {
   "display_name": "Python 3",
   "language": "python",
   "name": "python3"
  },
  "language_info": {
   "codemirror_mode": {
    "name": "ipython",
    "version": 3
   },
   "file_extension": ".py",
   "mimetype": "text/x-python",
   "name": "python",
   "nbconvert_exporter": "python",
   "pygments_lexer": "ipython3",
   "version": "3.7.10"
  }
 },
 "nbformat": 4,
 "nbformat_minor": 5
}
